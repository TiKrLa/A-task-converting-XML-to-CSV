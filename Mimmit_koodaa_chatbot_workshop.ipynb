{
  "nbformat": 4,
  "nbformat_minor": 0,
  "metadata": {
    "colab": {
      "provenance": [],
      "collapsed_sections": [
        "CEKfJbytsCrQ",
        "MffWwOSNlzvS",
        "A-wcwvpNcvuM",
        "VlXYZqPlsdWb",
        "j8aY6k0LtRgc",
        "-it-5nu1aVRU",
        "qWZOvC9stUpZ",
        "B_yGMCpHR5Jc",
        "zZyD-Y8xZJP4",
        "6VbLAvwPayEF",
        "asAvi86atYYY",
        "XoO2rN02b9FN",
        "lytYGcGSWlQV",
        "_31wMDvEH5H7"
      ],
      "include_colab_link": true
    },
    "kernelspec": {
      "name": "python3",
      "display_name": "Python 3"
    },
    "language_info": {
      "name": "python"
    }
  },
  "cells": [
    {
      "cell_type": "markdown",
      "metadata": {
        "id": "view-in-github",
        "colab_type": "text"
      },
      "source": [
        "<a href=\"https://colab.research.google.com/github/TiKrLa/A-task-converting-XML-to-CSV/blob/main/Mimmit_koodaa_chatbot_workshop.ipynb\" target=\"_parent\"><img src=\"https://colab.research.google.com/assets/colab-badge.svg\" alt=\"Open In Colab\"/></a>"
      ]
    },
    {
      "cell_type": "markdown",
      "source": [
        "# Learn to build a simple chatbot with Python\n",
        "\n",
        "The aim for the session is for you to learn how to build a simple chatbot with Python. We’ll start from zero, break down what a chatbot is made of, and learn about the basic principles of programming and problem-solving as we go."
      ],
      "metadata": {
        "id": "5ClynxzgqyVP"
      }
    },
    {
      "cell_type": "markdown",
      "source": [
        "## What is a chatbot made of? 🤖\n",
        "\n",
        "Let's do a bit of brainstorming. What do you think of when you hear \"chatbot\"?"
      ],
      "metadata": {
        "id": "au21jLM6x3m5"
      }
    },
    {
      "cell_type": "markdown",
      "source": [
        "## Intro 🌍\n",
        "\n",
        "What is code? What is a programming language? What is Python? Running snippets of code. Outputs."
      ],
      "metadata": {
        "id": "PEBIvG-Jr3jA"
      }
    },
    {
      "cell_type": "code",
      "execution_count": null,
      "metadata": {
        "id": "i9Ge5PaFqowp"
      },
      "outputs": [],
      "source": []
    },
    {
      "cell_type": "markdown",
      "source": [
        "## Variables 📛"
      ],
      "metadata": {
        "id": "CEKfJbytsCrQ"
      }
    },
    {
      "cell_type": "markdown",
      "source": [
        "Here are some example uses of variables:"
      ],
      "metadata": {
        "id": "TUV5mwfIlC7b"
      }
    },
    {
      "cell_type": "code",
      "source": [
        "name = \"Gerli\"\n",
        "print(\"Hello\", name)"
      ],
      "metadata": {
        "id": "ECMCThnksTC8"
      },
      "execution_count": null,
      "outputs": []
    },
    {
      "cell_type": "code",
      "source": [
        "total = 1 + 2 + 3 + 4 + 5\n",
        "print(\"The total is\", total)\n",
        "total = total + 6\n",
        "print(\"The new total is\", total)"
      ],
      "metadata": {
        "id": "pmxE64c7al81"
      },
      "execution_count": null,
      "outputs": []
    },
    {
      "cell_type": "code",
      "source": [
        "value1 = 78\n",
        "value2 = 123\n",
        "result = value1 * value2\n",
        "print(\"The total of\", value1, \"and\", value2, \"is\", result)"
      ],
      "metadata": {
        "id": "eu9-BYfqa93K"
      },
      "execution_count": null,
      "outputs": []
    },
    {
      "cell_type": "markdown",
      "source": [
        "Variables are a way to give a name to some stored or calculated values. Variable names are meant to help the human reading it understand what it is.\n",
        "\n",
        "A few restrictions and a few conventions on variable names:\n",
        "\n",
        "* A variable name can consist of:\n",
        "  * letters a-z\n",
        "  * numbers\n",
        "  * underscores\n",
        "* Some examples of good names could be `address`, `local_time`\n",
        "* The name cannot be the same as a built-in function (e.g. `print`) -- the colours should help here\n",
        "* I would recommend using English for your variable names so the whole program you write reads more smoothly -- Python commands are usually just English language words\n",
        "\n"
      ],
      "metadata": {
        "id": "bRTLVJRzazVZ"
      }
    },
    {
      "cell_type": "markdown",
      "source": [
        "### Types\n",
        "\n",
        "Data in programs can have different types, but it is not very important right now to know all of them. A few more common ones are:\n",
        "\n",
        "* Strings, e.g. `\"this is a string\"` -- text, surrounded by quotes (can use either single or double quotes but have to start and end with the same symbol)\n",
        "* Numbers, either integers, e.g. `5` or real numbers (floating point numbers), e.g. `12.3` -- note the `.` as a decimal separator\n",
        "* Booleans, i.e. `True` and `False` -- truth values, we will get to these later 🙂\n",
        "\n",
        "Note the syntax highlighting (colour of the text) in code cells here to help you identify what type things are.\n"
      ],
      "metadata": {
        "id": "SboKkHorheez"
      }
    },
    {
      "cell_type": "markdown",
      "source": [
        "### Tasks"
      ],
      "metadata": {
        "id": "OrlMyqRSL0VY"
      }
    },
    {
      "cell_type": "markdown",
      "source": [
        "#### Task 1 - Favourite colour\n",
        "\n",
        "Write a program that:\n",
        "* sets up a variable called `name` and assigns it your name as a value\n",
        "* sets up a variable called `colour` and assigns it your favourite colour as value\n",
        "* outputs the statement `\"I am <name> and my favourite colour is <colour>\"`"
      ],
      "metadata": {
        "id": "DmbbnYZMQsIN"
      }
    },
    {
      "cell_type": "markdown",
      "source": [
        "#### Task 2 - Age (extra)\n",
        "\n",
        "Write a program that:\n",
        "* sets up a variable `name` and assigns it your name as a value\n",
        "* sets up a variable `current_year` and assigns it `2022` as a value\n",
        "* sets up a variable `birth_year` and assigns it your year of birth as a value\n",
        "* sets up a variable `age` that calculates your age from the current year and your birth year\n",
        "* outputs the statement `\"I am <name> and I am <age> years old.\"`\n"
      ],
      "metadata": {
        "id": "ym3JkbmiL4wl"
      }
    },
    {
      "cell_type": "markdown",
      "source": [
        "### Extra info - Number operations"
      ],
      "metadata": {
        "id": "MffWwOSNlzvS"
      }
    },
    {
      "cell_type": "markdown",
      "source": [
        "Here are a few common operations that can be done with numbers:\n",
        "\n",
        "* `+` addition\n",
        "* `-` subtraction\n",
        "* `*` multiplication\n",
        "* `/` division\n",
        "* `**` exponent\n",
        "* `%` modulo\n",
        "\n",
        "See more [here](https://en.wikibooks.org/wiki/Python_Programming/Basic_Math)."
      ],
      "metadata": {
        "id": "4-ZpyNlIl2tS"
      }
    },
    {
      "cell_type": "markdown",
      "source": [
        "### Extra info - Snake case and camel case"
      ],
      "metadata": {
        "id": "A-wcwvpNcvuM"
      }
    },
    {
      "cell_type": "markdown",
      "source": [
        "Different programming languages have different standards for how to name things. These are generally not enforced, they are simply guidelines. The idea is to make sure programs written in the language look and feel similar.\n",
        "\n",
        "Python uses snake case ([Wiki](https://en.wikipedia.org/wiki/Snake_case)) for variables -- individual words, all in lowercase, are joined together with underscores. For example: `some_very_long_variable_name`\n",
        "\n",
        "The other style is camel case ([Wiki](https://en.wikipedia.org/wiki/Camel_case)) where new words start with an uppercase letter, forming humps, like a camel. For example: `someVeryLongVariableName`"
      ],
      "metadata": {
        "id": "UnqYogNBc76G"
      }
    },
    {
      "cell_type": "markdown",
      "source": [
        "## Inputs 📥"
      ],
      "metadata": {
        "id": "VlXYZqPlsdWb"
      }
    },
    {
      "cell_type": "markdown",
      "source": [
        "To make programs more interesting, we can ask for user input during the execution of the program. Note that the inputted value is a string."
      ],
      "metadata": {
        "id": "DlpqPwuopRWe"
      }
    },
    {
      "cell_type": "code",
      "source": [
        "print(\"What is your name?\")\n",
        "name = input()\n",
        "print(\"Hello\", name)"
      ],
      "metadata": {
        "id": "W9KBmQpXsgsB"
      },
      "execution_count": null,
      "outputs": []
    },
    {
      "cell_type": "markdown",
      "source": [
        "Alternatively, use a prompt inside the `input` function (depends on your aesthetics here which one you want to use):"
      ],
      "metadata": {
        "id": "ggbvKVq1syKh"
      }
    },
    {
      "cell_type": "code",
      "source": [
        "name = input(\"What is your name?\")\n",
        "print(\"Hello\", name)"
      ],
      "metadata": {
        "id": "WWzIgD23sk_x"
      },
      "execution_count": null,
      "outputs": []
    },
    {
      "cell_type": "markdown",
      "source": [
        "Congratulations, you have a chatbot! 🎉 In the next sections we'll make it more interesting 🙂"
      ],
      "metadata": {
        "id": "fE45amq0tDRO"
      }
    },
    {
      "cell_type": "markdown",
      "source": [
        "### Tasks"
      ],
      "metadata": {
        "id": "IcUuPmvonb1g"
      }
    },
    {
      "cell_type": "markdown",
      "source": [
        "#### Task 1 - Interactive favourite colour\n",
        "\n",
        "Convert the program from the previous task to ask for the name and favourite colour rather than writing them in the code.\n"
      ],
      "metadata": {
        "id": "k9cNagTId55q"
      }
    },
    {
      "cell_type": "markdown",
      "source": [
        "#### Task 2 - The Bond introduction\n",
        "\n",
        "Write a program that asks the user to enter their first name and their last name and responds with an answer of the form `\"I am <last name>. <first name> <last name>.\"`"
      ],
      "metadata": {
        "id": "douQcfDkOt6U"
      }
    },
    {
      "cell_type": "markdown",
      "source": [
        "#### Task 3 - Name length (extra)\n",
        "\n",
        "Write a program that asks the user to type in their name, and then tells the user how long their name is. Hint: the length of a string can be calculated with `len(string)`"
      ],
      "metadata": {
        "id": "ktvGijGTt0jg"
      }
    },
    {
      "cell_type": "markdown",
      "source": [
        "#### Task 4 - Calculator (extra)\n",
        "\n",
        "Write a little calculator program that asks the user for two numbers, and returns the multiplication of them. Hint: to convert inputted string into an integer, use `int(string)`"
      ],
      "metadata": {
        "id": "cMLZ2HbEt4VG"
      }
    },
    {
      "cell_type": "markdown",
      "source": [
        "## Conditions 🌳\n",
        "\n",
        "Conditions allow changing the behaviour based on certain checks."
      ],
      "metadata": {
        "id": "j8aY6k0LtRgc"
      }
    },
    {
      "cell_type": "code",
      "source": [
        "name = input(\"What is your name?\")\n",
        "if name == \"Gerli\":\n",
        "  print(\"Oh hello you!\")\n",
        "  print(\"So nice to see you again!\")\n",
        "else:\n",
        "  print(\"Hello\", name)"
      ],
      "metadata": {
        "id": "aGZePmrfWkiJ"
      },
      "execution_count": null,
      "outputs": []
    },
    {
      "cell_type": "markdown",
      "source": [
        "Note the indentation (whitespace in the beginning of the row) and the colons!"
      ],
      "metadata": {
        "id": "8DFMuQIElbLX"
      }
    },
    {
      "cell_type": "markdown",
      "source": [
        "For multiple checks in a row it is possible to either nest conditions:"
      ],
      "metadata": {
        "id": "qxyqyElNoKS4"
      }
    },
    {
      "cell_type": "code",
      "source": [
        "value = input(\"Choose option A or B: \")\n",
        "if value == \"A\":\n",
        "  print(\"You chose A\")\n",
        "else:\n",
        "  if value == \"B\":\n",
        "    print(\"You chose B\")\n",
        "  else:\n",
        "    print(\"Sorry, that was not one of the choices\")"
      ],
      "metadata": {
        "id": "HQfKZoitoQ6H"
      },
      "execution_count": null,
      "outputs": []
    },
    {
      "cell_type": "markdown",
      "source": [
        "Or add more branches with an `elif` (`else` + `if` = `elif`). There can be as many `elif` clauses as you want."
      ],
      "metadata": {
        "id": "4WXceVBwok9l"
      }
    },
    {
      "cell_type": "code",
      "source": [
        "value = input(\"Choose option A or B: \")\n",
        "if value == \"A\":\n",
        "  print(\"You chose A\")\n",
        "elif value == \"B\":\n",
        "  print(\"You chose B\")\n",
        "else:\n",
        "  print(\"Sorry, that was not one of the choices\")"
      ],
      "metadata": {
        "id": "LoWx4Ib8ow0P"
      },
      "execution_count": null,
      "outputs": []
    },
    {
      "cell_type": "markdown",
      "source": [
        "Some types of checks:\n",
        "\n",
        "* equal (`name == \"Gerli\"`) -- note the double equals!\n",
        "* not equal (`name != \"Gerli\"`)\n",
        "* contains (`\"li\" in name`)\n",
        "* does not contain (`\"li\" not in name`)\n",
        "* less than / greater than / less or equal than (`amount > 100`, `attempts <= 3`)\n",
        "* combining multiple statements - `and`, `or`, `not`\n",
        "  * `amount > 0 and amount < 100`\n",
        "  * `name == \"Jane\" or name == \"John\"`"
      ],
      "metadata": {
        "id": "3XasXvKGXJRn"
      }
    },
    {
      "cell_type": "markdown",
      "source": [
        "Note the difference between using one equals sign (variable assignment) and two equals signs (equality check)!"
      ],
      "metadata": {
        "id": "oy2uXiv_42uF"
      }
    },
    {
      "cell_type": "code",
      "source": [
        "name = \"Gerli\""
      ],
      "metadata": {
        "id": "pw1CWMTi4_db"
      },
      "execution_count": null,
      "outputs": []
    },
    {
      "cell_type": "code",
      "source": [
        "name == \"Gerli\""
      ],
      "metadata": {
        "id": "80uMdjd45Boi"
      },
      "execution_count": null,
      "outputs": []
    },
    {
      "cell_type": "markdown",
      "source": [
        "### Tasks"
      ],
      "metadata": {
        "id": "oPLPlNAF41F2"
      }
    },
    {
      "cell_type": "markdown",
      "source": [
        "#### Task 1 - Commenting on the favourite colour\n",
        "\n",
        "Convert the favourite colour program to return a different response if the colour is \"blue\".\n",
        "\n",
        "Extra: return different responses for more colours. Hint: use `elif` to keep the indentation manageable."
      ],
      "metadata": {
        "id": "lY2sSA4tQ2-v"
      }
    },
    {
      "cell_type": "markdown",
      "source": [
        "#### Task 2 - PIN checker\n",
        "\n",
        "Write a program that will ask the user to enter their PIN code in order to access a bank account (let's assume the PIN is `\"1234\"`). Output appropriate messages if the user got the PIN correct and if they did not."
      ],
      "metadata": {
        "id": "CtLWILjoRSzf"
      }
    },
    {
      "cell_type": "markdown",
      "source": [
        "#### Task 3 - Greetingbot (extra)\n",
        "\n",
        "Write a little chatbot who will:\n",
        "\n",
        "* Say hello\n",
        "* Ask you how you are doing\n",
        "* Based on the response:\n",
        "  * if you are doing well, say something nice\n",
        "  * if you are not doing well, say something encouraging\n",
        "\n",
        "Some example responses to try:\n",
        "* I'm doing good, thanks!\n",
        "* I'm great!\n",
        "* Not great actually\n",
        "* Not too good\n",
        "* Good\n",
        "* Fine\n"
      ],
      "metadata": {
        "id": "7Ga4gaNlYvHi"
      }
    },
    {
      "cell_type": "markdown",
      "source": [
        "### Extra info - Booleans\n",
        "\n",
        "Conditions resolve into a boolean value: something that is either `True` or `False`. Boolean is another data type."
      ],
      "metadata": {
        "id": "-it-5nu1aVRU"
      }
    },
    {
      "cell_type": "code",
      "source": [
        "print(2+2 == 5)"
      ],
      "metadata": {
        "colab": {
          "base_uri": "https://localhost:8080/"
        },
        "id": "Z9QF3xNwakta",
        "outputId": "77df2cf9-f4fd-441a-c056-23cb2bd89549"
      },
      "execution_count": null,
      "outputs": [
        {
          "output_type": "execute_result",
          "data": {
            "text/plain": [
              "False"
            ]
          },
          "metadata": {},
          "execution_count": 1
        }
      ]
    },
    {
      "cell_type": "code",
      "source": [
        "print(2+2 == 4)"
      ],
      "metadata": {
        "colab": {
          "base_uri": "https://localhost:8080/"
        },
        "id": "eEUuEUJKe5gX",
        "outputId": "2b992716-63c4-4a18-933b-232e1f173413"
      },
      "execution_count": null,
      "outputs": [
        {
          "output_type": "execute_result",
          "data": {
            "text/plain": [
              "True"
            ]
          },
          "metadata": {},
          "execution_count": 9
        }
      ]
    },
    {
      "cell_type": "markdown",
      "source": [
        "## Loops ♻"
      ],
      "metadata": {
        "id": "qWZOvC9stUpZ"
      }
    },
    {
      "cell_type": "markdown",
      "source": [
        "One thing computers are very good at is doing repetitive tasks very quickly. Similarly, it is possible to write code that very succintly describes a task to be done multiple times. So instead of this:"
      ],
      "metadata": {
        "id": "CDVSjFQVTHeS"
      }
    },
    {
      "cell_type": "code",
      "source": [
        "print(\"Hello!\")\n",
        "print(\"Hello!\")\n",
        "print(\"Hello!\")\n",
        "print(\"Hello!\")\n",
        "print(\"Hello!\")"
      ],
      "metadata": {
        "id": "EFhs8PotTbXv"
      },
      "execution_count": null,
      "outputs": []
    },
    {
      "cell_type": "markdown",
      "source": [
        "We can write:"
      ],
      "metadata": {
        "id": "dPZ_89oXTfj7"
      }
    },
    {
      "cell_type": "code",
      "source": [
        "i = 0\n",
        "while i < 5:\n",
        "  print(\"Hello!\")\n",
        "  i = i+1"
      ],
      "metadata": {
        "id": "72fe2z85TgqS"
      },
      "execution_count": null,
      "outputs": []
    },
    {
      "cell_type": "markdown",
      "source": [
        "The `while` loop uses the same conditions as an `if` statement does -- but while an `if` is only executed once, a while loop keeps looping until the condition is true."
      ],
      "metadata": {
        "id": "DgVVfwFLUtnz"
      }
    },
    {
      "cell_type": "markdown",
      "source": [
        "The condition in the loop could be based on user input, note that usually the check is reversed here -- \"loop until the thing we want to happen becomes true\":"
      ],
      "metadata": {
        "id": "cROavx4BBruc"
      }
    },
    {
      "cell_type": "code",
      "source": [
        "number = int(input(\"Enter a number larger than 5: \"))\n",
        "while number <= 5:\n",
        "  number = int(input(\"That number is too small! Try again: \"))\n",
        "print(\"Excellent, I like number\", number)"
      ],
      "metadata": {
        "id": "iH4HF1ywBwHQ"
      },
      "execution_count": null,
      "outputs": []
    },
    {
      "cell_type": "markdown",
      "source": [
        "The condition can be more complicated, for example to validate that the user enters one of exactly two options:"
      ],
      "metadata": {
        "id": "o_rhWrQvCaD4"
      }
    },
    {
      "cell_type": "code",
      "source": [
        "choice = input(\"Choose A or B: \")\n",
        "while not (choice == \"A\" or choice == \"B\"):\n",
        "  choice = input(\"That is not one of the options! Choose A or B: \")\n",
        "\n",
        "if choice == \"A\":\n",
        "  print(\"A is a good choice\")\n",
        "else:\n",
        "  print(\"B is not a bad choice\")"
      ],
      "metadata": {
        "id": "dLj_pHCnCg1g"
      },
      "execution_count": null,
      "outputs": []
    },
    {
      "cell_type": "markdown",
      "source": [
        "#### Task 1 - Infinite PIN checker\n",
        "\n",
        "Rewrite the PIN checker to keep asking for the user to enter the PIN until they get it correct."
      ],
      "metadata": {
        "id": "PK10UWXiVE9u"
      }
    },
    {
      "cell_type": "markdown",
      "source": [
        "A few scenarios to try:\n",
        "* Try getting the PIN correct on the first go\n",
        "* Try getting the PIN correct on the fifth go"
      ],
      "metadata": {
        "id": "bXmvVtYO6Hyp"
      }
    },
    {
      "cell_type": "markdown",
      "source": [
        "#### Task 2 - Attempt counter for PIN checker\n",
        "\n",
        "Add a bit more to the PIN checker -- inform the user how many attempts they have used: `\"This is attempt number 5\"` etc."
      ],
      "metadata": {
        "id": "XrB58B__7CJv"
      }
    },
    {
      "cell_type": "markdown",
      "source": [
        "#### Task 3 - Limited PIN checker\n",
        "\n",
        "Rewrite the PIN checker again -- instead of an infinite amount of attempts, give 5 attempts. Give a message to the user if they got the PIN correct or ran out of attempts. Make sure the message is appropriate in all these cases:\n",
        "\n",
        "* PIN is correct on the first attempt\n",
        "* PIN is correct on the 3rd attempt\n",
        "* PIN is never correct\n",
        "\n",
        "Extra: add a variable `total_attempts` and give it the value 5. Tell the user how many attempts they have left. Try both of these versions of the message:\n",
        "* `\"This is attempt 2/5\"` \n",
        "* `\"You have 3 attempts left\"`"
      ],
      "metadata": {
        "id": "QXuqbGSEVoEu"
      }
    },
    {
      "cell_type": "markdown",
      "source": [
        "#### Task 4 - ASCII art (extra)\n",
        "\n",
        "Ask the user for a number of rows and draw a triangle based on the user input. Hint: try multiplying a string with a number:\n"
      ],
      "metadata": {
        "id": "ToZgkV2hE0w_"
      }
    },
    {
      "cell_type": "code",
      "source": [
        "print(\"hello\" * 5)"
      ],
      "metadata": {
        "id": "tXtLY9uOHCEn"
      },
      "execution_count": null,
      "outputs": []
    },
    {
      "cell_type": "markdown",
      "source": [
        "\n",
        "Simpler version - triangle with 4 rows would look like this:\n",
        "\n",
        "```\n",
        "*\n",
        "**\n",
        "***\n",
        "****\n",
        "```\n",
        "\n",
        "More complicated version - triangle with 4 rows would look like this:\n",
        "\n",
        "```\n",
        "    * \n",
        "   ***\n",
        "  *****\n",
        " *******\n",
        " ```"
      ],
      "metadata": {
        "id": "lY-caBtiHBHX"
      }
    },
    {
      "cell_type": "markdown",
      "source": [
        "### Extra info - `for` loops"
      ],
      "metadata": {
        "id": "B_yGMCpHR5Jc"
      }
    },
    {
      "cell_type": "markdown",
      "source": [
        "In addition to `while` loops, there are also `for` loops that allow you to iterate through a fixed set of things. The most common thing to iterate over is consecutive integers, as provided by the function `range`. Note that the first number is 0!\n"
      ],
      "metadata": {
        "id": "xRbbXAbYbC5a"
      }
    },
    {
      "cell_type": "code",
      "source": [
        "for index in range(5):\n",
        "  print(\"I am currently on loop number\", index)"
      ],
      "metadata": {
        "colab": {
          "base_uri": "https://localhost:8080/"
        },
        "id": "AnkdcfgBbHtg",
        "outputId": "0235b124-1032-4390-d40e-1c9eeccc958c"
      },
      "execution_count": null,
      "outputs": [
        {
          "output_type": "stream",
          "name": "stdout",
          "text": [
            "I am currently on loop number 0\n",
            "I am currently on loop number 1\n",
            "I am currently on loop number 2\n",
            "I am currently on loop number 3\n",
            "I am currently on loop number 4\n"
          ]
        }
      ]
    },
    {
      "cell_type": "markdown",
      "source": [
        "### Extra info - Lists"
      ],
      "metadata": {
        "id": "zZyD-Y8xZJP4"
      }
    },
    {
      "cell_type": "markdown",
      "source": [
        "So far we've talked about basic data types - strings, integers, booleans. It is possible to combine these in more complex data structures. One of these data structures is a list -- an ordered collection of items. for-loops can iterate over these lists."
      ],
      "metadata": {
        "id": "tIS4SI8lR9i2"
      }
    },
    {
      "cell_type": "code",
      "source": [
        "conversation = [\"Hello there!\", \"How are you doing?\", \"Have you been well?\"]\n",
        "for sentence in conversation:\n",
        "  print(conversation)"
      ],
      "metadata": {
        "id": "a3UZ2TRDZZvi"
      },
      "execution_count": null,
      "outputs": []
    },
    {
      "cell_type": "markdown",
      "source": [
        "Note that the `range` function also returns a list:"
      ],
      "metadata": {
        "id": "eDpO_vLASf9K"
      }
    },
    {
      "cell_type": "code",
      "source": [
        "print(range(5))"
      ],
      "metadata": {
        "id": "3aJDPVKASi5E"
      },
      "execution_count": null,
      "outputs": []
    },
    {
      "cell_type": "markdown",
      "source": [
        "### Extra info - Breaking out of a loop"
      ],
      "metadata": {
        "id": "6VbLAvwPayEF"
      }
    },
    {
      "cell_type": "markdown",
      "source": [
        "It is possible to have a while-loop that has a condition that is always true. In order to stop such loops, a `break` statement can be used somewhere in the body of the loop, for example:"
      ],
      "metadata": {
        "id": "AorX3619S0I_"
      }
    },
    {
      "cell_type": "code",
      "source": [
        "while True:\n",
        "  name = input(\"What is your name?\")\n",
        "  if name == \"Gerli\":\n",
        "    print(\"Great, I was just looking for you!\")\n",
        "    break\n",
        "  else:\n",
        "    print(\"Sorry, I'm looking for someone else.\")\n"
      ],
      "metadata": {
        "id": "GVmAdAINtSbS"
      },
      "execution_count": null,
      "outputs": []
    },
    {
      "cell_type": "markdown",
      "source": [
        "## Randomness 🎲"
      ],
      "metadata": {
        "id": "asAvi86atYYY"
      }
    },
    {
      "cell_type": "markdown",
      "source": [
        "Try running the following program multiple times and see what happens:"
      ],
      "metadata": {
        "id": "gqZTj7FSWIUD"
      }
    },
    {
      "cell_type": "code",
      "source": [
        "from random import randint\n",
        "\n",
        "choice = randint(1, 3)\n",
        "if choice == 1:\n",
        "  print(\"First one!\")\n",
        "elif choice == 2:\n",
        "  print(\"Second one!\")\n",
        "else:\n",
        "  print(\"Third one!\")"
      ],
      "metadata": {
        "id": "H_Q5HEgCtZkF"
      },
      "execution_count": null,
      "outputs": []
    },
    {
      "cell_type": "markdown",
      "source": [
        "### Task - Variety in the PIN checker\n",
        "\n",
        "Rewrite the PIN checker to respond in slightly different ways every time you get the PIN wrong."
      ],
      "metadata": {
        "id": "vHrSrtixcZfW"
      }
    },
    {
      "cell_type": "markdown",
      "source": [
        "## Functions 🎭\n",
        "\n",
        "Functions allow grouping code, make some code snippets reusable, and also increase readability."
      ],
      "metadata": {
        "id": "XoO2rN02b9FN"
      }
    },
    {
      "cell_type": "code",
      "source": [
        "def say_hello():\n",
        "  print(\"Hello there!\")\n",
        "  print(\"How are you doing?\")\n",
        "\n",
        "print(\"Starting chat...\")\n",
        "say_hello()\n",
        "print(\"Ending chat...\")"
      ],
      "metadata": {
        "id": "Rp1SVsjZ7tQC"
      },
      "execution_count": null,
      "outputs": []
    },
    {
      "cell_type": "markdown",
      "source": [
        "Functions can also take arguments:"
      ],
      "metadata": {
        "id": "dbTcaKtL79C_"
      }
    },
    {
      "cell_type": "code",
      "source": [
        "def say_the_number(number):\n",
        "  print(\"The number is\", number)\n",
        "\n",
        "say_the_number(1)\n",
        "say_the_number(13)"
      ],
      "metadata": {
        "id": "sAj89bdN8CfD"
      },
      "execution_count": null,
      "outputs": []
    },
    {
      "cell_type": "markdown",
      "source": [
        "### Tasks"
      ],
      "metadata": {
        "id": "CdAfrABZ70bL"
      }
    },
    {
      "cell_type": "markdown",
      "source": [
        "#### Task 1\n",
        "\n",
        "Create a function `format_attempt_number` that takes a number `n` as an argument and formats the statement \"This is your *n*th attempt\". \n",
        "\n",
        "For example:\n",
        "\n",
        "* `format_attempt_number(1)` should say \"This is your 1st attempt\"\n",
        "* `format_attempt_number(2)` should say \"This is your 2nd attempt\"\n",
        "* `format_attempt_number(100)` should say \"This is your 100th attempt\"\n",
        "\n",
        "Incorporate this in the PIN checker.\n",
        "\n",
        "Hint: to convert a number to a string, you can use the function `str`, for example:"
      ],
      "metadata": {
        "id": "Wq9xBCLj73Tr"
      }
    },
    {
      "cell_type": "code",
      "source": [
        "print(\"This is your \" + str(4) + \"th attempt\")"
      ],
      "metadata": {
        "id": "Y3bC4dkl9lbA"
      },
      "execution_count": null,
      "outputs": []
    },
    {
      "cell_type": "markdown",
      "source": [
        "## Let's build a chatbot! 🤖 🛠"
      ],
      "metadata": {
        "id": "lytYGcGSWlQV"
      }
    },
    {
      "cell_type": "markdown",
      "source": [
        "Let's now assemble everything into one big chatbot!\n",
        "\n",
        "Write a bot that will help you make a decision. You could choose one of these or pick your own topic:\n",
        "\n",
        "* What would you like to Wolt today?\n",
        "* Where would you like to go for lunch today?\n",
        "* What movie would you like to watch today?\n",
        "\n",
        "Your chatbot should:\n",
        "\n",
        "* Start out with some pleasantries\n",
        "* Ask some questions, answer with some randomness\n",
        "* If the user is satisfied, end with pleasantries  \n",
        "\n",
        "Try to incorporate all the techniques used so far:\n",
        "* Conditions to reply differently based on what the user says\n",
        "* Use a `while` loop to keep the bot running until the user is happy with the results\n",
        "* If you want to spice things up a bit more, check the Functions and Randomness sections and add more variety to the responses and start grouping some of the code."
      ],
      "metadata": {
        "id": "VKNZMxw3tba3"
      }
    },
    {
      "cell_type": "markdown",
      "source": [
        "## Extra materials 📚"
      ],
      "metadata": {
        "id": "_31wMDvEH5H7"
      }
    },
    {
      "cell_type": "markdown",
      "source": [
        "[Here](https://colab.research.google.com/drive/1qAj-QIkf3Z6bLuBXUGslfe1W1Cl_Xy97?usp=sharing) is a version of this file with some example solutions (try not to peek until you've tried to solve them yourself first! 😉) -- note that these are not the only correct solution, there are many ways to solve things.\n",
        "\n",
        "More events hosted by Wolt coming up: [Mimmit koodaa - Wolt](https://mimmitkoodaa.ohjelmistoebusiness.fi/wolt-mimmitkoodaa/)\n",
        "\n",
        "If you want to learn more about Python or programming in general, this is a good starting point and it links to a number of curated resources: [Python for Beginners](https://www.python.org/about/gettingstarted/).\n",
        "\n",
        "For a very beginner-friendly collection of resources check this [Wiki page about Python for non-programmers](https://wiki.python.org/moin/BeginnersGuide/NonProgrammers).\n",
        "\n",
        "Books:\n",
        "* [Automate the boring stuff](https://automatetheboringstuff.com/)\n",
        "\n",
        "Online courses:\n",
        "* All the courses in [Talk Python](https://training.talkpython.fm/courses/all). These are paid but the quality is top notch. For example, there’s [Python for Absolute Beginners](https://training.talkpython.fm/courses/explore_beginners/python-for-absolute-beginners).\n",
        "* [Python Programming MOOC](https://programming-22.mooc.fi/) from University of Helsinki (more MOOCs [here](https://www.mooc.fi/en/), also available in Finnish)\n",
        "* If you happen to speak Estonian, there is an excellent MOOC [Programming in a down-to-earth way](https://courses.cs.ut.ee/2022/progmaa/spring/Main/HomePage)\n",
        "\n",
        "For writing Python code:\n",
        "* If you use Python locally on your machine, you can write code in any plaintext editor\n",
        "* For a beginner-friendly IDE (Integrated Development Environment, i.e. you can both write code and run code here), try [Thonny](https://thonny.org/)\n",
        "* For a nicer experience, try [PyCharm](https://www.jetbrains.com/pycharm/) (the free version will do just fine 🙂)\n",
        "   * It might take a bit of getting used to the project-based structure it has (I remember being confused at first!) but after the initial set-up it's very nice to use for editing and running code in the same place\n",
        "   * This is also what professional Python developers use (there are other options as well but this one is very popular)"
      ],
      "metadata": {
        "id": "2BFEMgWSH99n"
      }
    }
  ]
}